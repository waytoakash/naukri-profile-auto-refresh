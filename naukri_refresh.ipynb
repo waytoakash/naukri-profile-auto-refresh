{
 "cells": [
  {
   "cell_type": "code",
   "execution_count": null,
   "metadata": {},
   "outputs": [],
   "source": [
    "!pip install selenium python-dotenv"
   ]
  },
  {
   "cell_type": "code",
   "execution_count": null,
   "metadata": {},
   "outputs": [],
   "source": [
    "from selenium import webdriver\n",
    "from selenium.webdriver.common.by import By\n",
    "from selenium.webdriver.chrome.options import Options\n",
    "from dotenv import load_dotenv\n",
    "import os\n",
    "import time"
   ]
  },
  {
   "cell_type": "code",
   "execution_count": null,
   "metadata": {},
   "outputs": [],
   "source": [
    "load_dotenv()\n",
    "\n",
    "EMAIL = os.getenv(\"NAUKRI_EMAIL\")\n",
    "PASSWORD = os.getenv(\"NAUKRI_PASSWORD\")\n",
    "CHROME_DRIVER_PATH = os.getenv(\"CHROME_DRIVER_PATH\")\n",
    "\n",
    "print(\"📧 Email loaded:\", EMAIL)\n",
    "print(\"📂 ChromeDriver path:\", CHROME_DRIVER_PATH)"
   ]
  },
  {
   "cell_type": "code",
   "execution_count": null,
   "metadata": {},
   "outputs": [],
   "source": [
    "options = Options()\n",
    "options.add_argument(\"--start-maximized\")\n",
    "\n",
    "driver = webdriver.Chrome(executable_path=CHROME_DRIVER_PATH, options=options)\n",
    "\n",
    "try:\n",
    "    print(\"🔐 Logging into Naukri...\")\n",
    "    driver.get(\"https://www.naukri.com/nlogin/login\")\n",
    "\n",
    "    driver.find_element(By.ID, \"usernameField\").send_keys(EMAIL)\n",
    "    driver.find_element(By.ID, \"passwordField\").send_keys(PASSWORD)\n",
    "    driver.find_element(By.XPATH, \"//button[@type='submit']\").click()\n",
    "    time.sleep(5)\n",
    "\n",
    "    print(\"🔄 Navigating to profile...\")\n",
    "    driver.get(\"https://www.naukri.com/mnjuser/profile\")\n",
    "    time.sleep(5)\n",
    "\n",
    "    print(\"🔁 Attempting to refresh profile...\")\n",
    "    refresh_button = driver.find_element(By.XPATH, \"//span[text()='Resume headline']//ancestor::section//button\")\n",
    "    refresh_button.click()\n",
    "\n",
    "    print(\"✅ Profile refreshed successfully!\")\n",
    "\n",
    "except Exception as e:\n",
    "    print(\"❌ Something went wrong:\", e)\n",
    "\n",
    "time.sleep(10)\n",
    "driver.quit()"
   ]
  }
 ],
 "metadata": {
  "kernelspec": {
   "display_name": "Python 3",
   "language": "python",
   "name": "python3"
  },
  "language_info": {
   "name": "python",
   "version": ""
  }
 },
 "nbformat": 4,
 "nbformat_minor": 2
}