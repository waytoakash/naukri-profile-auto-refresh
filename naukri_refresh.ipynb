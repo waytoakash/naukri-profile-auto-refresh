{
 "cells": [
  {
   "cell_type": "code",
   "execution_count": 53,
   "metadata": {},
   "outputs": [
    {
     "name": "stdout",
     "output_type": "stream",
     "text": [
      "Requirement already satisfied: selenium in c:\\users\\acash\\appdata\\local\\programs\\python\\python313\\lib\\site-packages (4.31.0)\n",
      "Requirement already satisfied: python-dotenv in c:\\users\\acash\\appdata\\local\\programs\\python\\python313\\lib\\site-packages (1.1.0)\n",
      "Requirement already satisfied: urllib3<3,>=1.26 in c:\\users\\acash\\appdata\\local\\programs\\python\\python313\\lib\\site-packages (from urllib3[socks]<3,>=1.26->selenium) (2.3.0)\n",
      "Requirement already satisfied: trio~=0.17 in c:\\users\\acash\\appdata\\local\\programs\\python\\python313\\lib\\site-packages (from selenium) (0.29.0)\n",
      "Requirement already satisfied: trio-websocket~=0.9 in c:\\users\\acash\\appdata\\local\\programs\\python\\python313\\lib\\site-packages (from selenium) (0.12.2)\n",
      "Requirement already satisfied: certifi>=2021.10.8 in c:\\users\\acash\\appdata\\local\\programs\\python\\python313\\lib\\site-packages (from selenium) (2025.1.31)\n",
      "Requirement already satisfied: typing_extensions~=4.9 in c:\\users\\acash\\appdata\\local\\programs\\python\\python313\\lib\\site-packages (from selenium) (4.13.1)\n",
      "Requirement already satisfied: websocket-client~=1.8 in c:\\users\\acash\\appdata\\local\\programs\\python\\python313\\lib\\site-packages (from selenium) (1.8.0)\n",
      "Requirement already satisfied: attrs>=23.2.0 in c:\\users\\acash\\appdata\\local\\programs\\python\\python313\\lib\\site-packages (from trio~=0.17->selenium) (25.3.0)\n",
      "Requirement already satisfied: sortedcontainers in c:\\users\\acash\\appdata\\local\\programs\\python\\python313\\lib\\site-packages (from trio~=0.17->selenium) (2.4.0)\n",
      "Requirement already satisfied: idna in c:\\users\\acash\\appdata\\local\\programs\\python\\python313\\lib\\site-packages (from trio~=0.17->selenium) (3.10)\n",
      "Requirement already satisfied: outcome in c:\\users\\acash\\appdata\\local\\programs\\python\\python313\\lib\\site-packages (from trio~=0.17->selenium) (1.3.0.post0)\n",
      "Requirement already satisfied: sniffio>=1.3.0 in c:\\users\\acash\\appdata\\local\\programs\\python\\python313\\lib\\site-packages (from trio~=0.17->selenium) (1.3.1)\n",
      "Requirement already satisfied: cffi>=1.14 in c:\\users\\acash\\appdata\\local\\programs\\python\\python313\\lib\\site-packages (from trio~=0.17->selenium) (1.17.1)\n",
      "Requirement already satisfied: wsproto>=0.14 in c:\\users\\acash\\appdata\\local\\programs\\python\\python313\\lib\\site-packages (from trio-websocket~=0.9->selenium) (1.2.0)\n",
      "Requirement already satisfied: pysocks!=1.5.7,<2.0,>=1.5.6 in c:\\users\\acash\\appdata\\local\\programs\\python\\python313\\lib\\site-packages (from urllib3[socks]<3,>=1.26->selenium) (1.7.1)\n",
      "Requirement already satisfied: pycparser in c:\\users\\acash\\appdata\\local\\programs\\python\\python313\\lib\\site-packages (from cffi>=1.14->trio~=0.17->selenium) (2.22)\n",
      "Requirement already satisfied: h11<1,>=0.9.0 in c:\\users\\acash\\appdata\\local\\programs\\python\\python313\\lib\\site-packages (from wsproto>=0.14->trio-websocket~=0.9->selenium) (0.14.0)\n",
      "Note: you may need to restart the kernel to use updated packages.\n"
     ]
    },
    {
     "name": "stderr",
     "output_type": "stream",
     "text": [
      "\n",
      "[notice] A new release of pip is available: 24.3.1 -> 25.0.1\n",
      "[notice] To update, run: python.exe -m pip install --upgrade pip\n"
     ]
    }
   ],
   "source": [
    "pip install selenium python-dotenv"
   ]
  },
  {
   "cell_type": "code",
   "execution_count": 54,
   "metadata": {},
   "outputs": [],
   "source": [
    "from selenium import webdriver\n",
    "from selenium.webdriver.common.by import By\n",
    "from selenium.webdriver.common.keys import Keys\n",
    "from selenium.webdriver.chrome.service import Service\n",
    "import time\n",
    "import os\n",
    "from dotenv import load_dotenv"
   ]
  },
  {
   "cell_type": "code",
   "execution_count": 55,
   "metadata": {},
   "outputs": [
    {
     "name": "stdout",
     "output_type": "stream",
     "text": [
      "📧 Email loaded: acashkrsingh@gmail.com\n",
      "📧 Password loaded: Naukrisoft@2025\n",
      "📂 ChromeDriver path: C:/WebDrivers/chromedriver.exe\n"
     ]
    }
   ],
   "source": [
    "import os\n",
    "from dotenv import load_dotenv\n",
    "\n",
    "# Change directory to where your .env file is located\n",
    "os.chdir(r\"C:\\Users\\acash\\OneDrive\\Desktop\\naukri_auto_refresh\")\n",
    "\n",
    "# Now load the .env file\n",
    "load_dotenv()\n",
    "\n",
    "# Fetch credentials\n",
    "EMAIL = os.getenv(\"NAUKRI_EMAIL\")\n",
    "PASSWORD = os.getenv(\"NAUKRI_PASSWORD\")\n",
    "CHROME_DRIVER_PATH = os.getenv(\"CHROME_DRIVER_PATH\")\n",
    "\n",
    "# Show results\n",
    "print(\"📧 Email loaded:\", EMAIL)\n",
    "print(\"📧 Password loaded:\", PASSWORD)\n",
    "print(\"📂 ChromeDriver path:\", CHROME_DRIVER_PATH)\n"
   ]
  },
  {
   "cell_type": "code",
   "execution_count": 56,
   "metadata": {},
   "outputs": [],
   "source": [
    "# Set up Chrome driver\n",
    "service = Service(CHROME_DRIVER_PATH)\n",
    "driver = webdriver.Chrome(service=service)"
   ]
  },
  {
   "cell_type": "code",
   "execution_count": 57,
   "metadata": {},
   "outputs": [],
   "source": [
    "# Open Naukri\n",
    "driver.get(\"https://www.naukri.com/\")\n",
    "driver.maximize_window()\n",
    "time.sleep(3)\n",
    "\n",
    "# Click Login\n",
    "login_button = driver.find_element(By.LINK_TEXT, \"Login\")\n",
    "login_button.click()\n",
    "time.sleep(3)"
   ]
  },
  {
   "cell_type": "code",
   "execution_count": 58,
   "metadata": {},
   "outputs": [],
   "source": [
    "from selenium.webdriver.common.by import By\n",
    "import time\n",
    "\n",
    "# Enter credentials\n",
    "driver.find_element(By.XPATH, \"//input[@type='text' or @name='email']\").send_keys(EMAIL)\n",
    "driver.find_element(By.XPATH, \"//input[@type='password']\").send_keys(PASSWORD)\n",
    "\n",
    "# driver.find_element(By.XPATH, \"//input[@type='text' or @name='email']\").send_keys(\"acashkrsingh@gmail.com\")\n",
    "# driver.find_element(By.XPATH, \"//input[@type='password']\").send_keys(\"Naukrisoft@2025\")\n",
    "driver.find_element(By.XPATH, \"//button[contains(text(), 'Login')]\").click()\n",
    "\n",
    "time.sleep(5)\n",
    "\n",
    "# 🚀 Redirect to profile page explicitly\n",
    "driver.get(\"https://www.naukri.com/mnjuser/profile\")\n",
    "\n",
    "# Wait for profile page to load fully\n",
    "time.sleep(5)"
   ]
  },
  {
   "cell_type": "code",
   "execution_count": 59,
   "metadata": {},
   "outputs": [
    {
     "name": "stdout",
     "output_type": "stream",
     "text": [
      "📎 Resume re-uploaded.\n",
      "✅ Profile refreshed successfully at 2025-04-22 11:25:42\n",
      "✅ Script finished\n"
     ]
    }
   ],
   "source": [
    "from selenium.webdriver.support.ui import WebDriverWait\n",
    "from selenium.webdriver.support import expected_conditions as EC\n",
    "from selenium.webdriver.common.by import By\n",
    "from datetime import datetime\n",
    "\n",
    "\n",
    "wait = WebDriverWait(driver, 15)\n",
    "\n",
    "# try:\n",
    "#     # ✅ Click \"Update\" next to Resume under Quick Links\n",
    "#     resume_update_button = wait.until(\n",
    "#         EC.element_to_be_clickable((By.LINK_TEXT, \"Update\"))\n",
    "#     )\n",
    "#     resume_update_button.click()\n",
    "#     print(\"✅ Clicked Resume Update link.\")\n",
    "\n",
    "try:\n",
    "    upload_input = wait.until(\n",
    "        EC.presence_of_element_located((By.XPATH, \"//input[@type='file']\"))\n",
    "    )\n",
    "    upload_input.send_keys(r\"C:\\Users\\acash\\OneDrive\\Desktop\\Resume\\CV_Updated_Akash.pdf\")  # <- Replace with your actual resume path\n",
    "    print(\"📎 Resume re-uploaded.\")\n",
    "\n",
    "    # \"C:\\Users\\acash\\OneDrive\\Desktop\\Resume\\Resume.pdf\"\n",
    "\n",
    "    # ⏳ Wait a bit to simulate activity\n",
    "    time.sleep(5)\n",
    "\n",
    "    print(f\"✅ Profile refreshed successfully at {datetime.now().strftime('%Y-%m-%d %H:%M:%S')}\")\n",
    "\n",
    "except Exception as e:\n",
    "    print(\"⚠️ Could not refresh profile:\", e)\n",
    "\n",
    "# === Finish ===\n",
    "time.sleep(5)\n",
    "driver.quit()\n",
    "print(\"✅ Script finished\")"
   ]
  },
  {
   "cell_type": "code",
   "execution_count": 60,
   "metadata": {},
   "outputs": [],
   "source": [
    "# import random\n",
    "\n",
    "# # Wait and click update icon/button\n",
    "# try:\n",
    "#     wait = WebDriverWait(driver, 15)\n",
    "#     refresh_button = wait.until(\n",
    "#         EC.element_to_be_clickable((By.XPATH, \"//span[contains(text(),'Resume headline')]/following::i[1]\"))\n",
    "#     )\n",
    "#     refresh_button.click()\n",
    "#     print(\"✅ Profile refreshed successfully!\")\n",
    "# except Exception as e:\n",
    "#     print(\"⚠️ Could not refresh profile:\", e)\n",
    "\n",
    "# from datetime import datetime\n",
    "# print(f\"✅ Profile refreshed successfully at {datetime.now().strftime('%Y-%m-%d %H:%M:%S')}\")"
   ]
  },
  {
   "cell_type": "code",
   "execution_count": null,
   "metadata": {},
   "outputs": [],
   "source": []
  }
 ],
 "metadata": {
  "kernelspec": {
   "display_name": "Python 3 (ipykernel)",
   "language": "python",
   "name": "python3"
  },
  "language_info": {
   "codemirror_mode": {
    "name": "ipython",
    "version": 3
   },
   "file_extension": ".py",
   "mimetype": "text/x-python",
   "name": "python",
   "nbconvert_exporter": "python",
   "pygments_lexer": "ipython3",
   "version": "3.13.2"
  }
 },
 "nbformat": 4,
 "nbformat_minor": 4
}
